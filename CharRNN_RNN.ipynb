{
 "cells": [
  {
   "cell_type": "code",
   "execution_count": 1,
   "id": "37edb648",
   "metadata": {},
   "outputs": [
    {
     "name": "stdout",
     "output_type": "stream",
     "text": [
      "Default GPU Device: /device:GPU:0\n"
     ]
    }
   ],
   "source": [
    "import numpy as np\n",
    "import matplotlib.pyplot as plt\n",
    "import os\n",
    "os.environ['TF_CPP_MIN_LOG_LEVEL'] = '2'  # or any {'0', '1', '2'}\n",
    "import time\n",
    "import tensorflow as tf\n",
    "if tf.test.gpu_device_name():\n",
    "    print('Default GPU Device: {}'.format(tf.test.gpu_device_name()))\n",
    "else:\n",
    "    print(\"Please install GPU version of TF\")"
   ]
  },
  {
   "cell_type": "code",
   "execution_count": 2,
   "id": "a12d9f9a",
   "metadata": {},
   "outputs": [],
   "source": [
    "path_to_file = tf.keras.utils.get_file('shakespeare.txt', 'https://storage.googleapis.com/download.tensorflow.org/data/shakespeare.txt')\n"
   ]
  },
  {
   "cell_type": "code",
   "execution_count": 3,
   "id": "19926a50",
   "metadata": {},
   "outputs": [
    {
     "name": "stdout",
     "output_type": "stream",
     "text": [
      "Length of text: 1115394 characters\n"
     ]
    }
   ],
   "source": [
    "# Read, then decode for py2 compat.\n",
    "text = open(path_to_file, 'rb').read().decode(encoding='utf-8')\n",
    "# length of text is the number of characters in it\n",
    "print(f'Length of text: {len(text)} characters')\n"
   ]
  },
  {
   "cell_type": "code",
   "execution_count": 4,
   "id": "f7b40a36",
   "metadata": {},
   "outputs": [
    {
     "name": "stdout",
     "output_type": "stream",
     "text": [
      "65 unique characters\n"
     ]
    }
   ],
   "source": [
    "# The unique characters in the file\n",
    "vocab = sorted(set(text))\n",
    "print(f'{len(vocab)} unique characters')"
   ]
  },
  {
   "cell_type": "code",
   "execution_count": 5,
   "id": "e4c5228f",
   "metadata": {},
   "outputs": [],
   "source": [
    "ids_from_chars = tf.keras.layers.StringLookup(\n",
    "    vocabulary=list(vocab), mask_token=None)\n",
    "\n",
    "chars_from_ids = tf.keras.layers.StringLookup(\n",
    "    vocabulary=ids_from_chars.get_vocabulary(), invert=True, mask_token=None)\n"
   ]
  },
  {
   "cell_type": "code",
   "execution_count": 6,
   "id": "db882545",
   "metadata": {},
   "outputs": [
    {
     "data": {
      "text/plain": [
       "<tf.Tensor: shape=(1115394,), dtype=int64, numpy=array([19, 48, 57, ..., 46,  9,  1])>"
      ]
     },
     "execution_count": 6,
     "metadata": {},
     "output_type": "execute_result"
    }
   ],
   "source": [
    "all_ids = ids_from_chars(tf.strings.unicode_split(text, 'UTF-8'))\n",
    "all_ids\n"
   ]
  },
  {
   "cell_type": "code",
   "execution_count": 7,
   "id": "244ef7e5",
   "metadata": {},
   "outputs": [],
   "source": [
    "ids_dataset = tf.data.Dataset.from_tensor_slices(all_ids)\n"
   ]
  },
  {
   "cell_type": "code",
   "execution_count": 8,
   "id": "3c164833",
   "metadata": {},
   "outputs": [],
   "source": [
    "seq_length = 100\n"
   ]
  },
  {
   "cell_type": "code",
   "execution_count": 9,
   "id": "6808a744",
   "metadata": {},
   "outputs": [
    {
     "name": "stdout",
     "output_type": "stream",
     "text": [
      "tf.Tensor(\n",
      "[b'F' b'i' b'r' b's' b't' b' ' b'C' b'i' b't' b'i' b'z' b'e' b'n' b':'\n",
      " b'\\n' b'B' b'e' b'f' b'o' b'r' b'e' b' ' b'w' b'e' b' ' b'p' b'r' b'o'\n",
      " b'c' b'e' b'e' b'd' b' ' b'a' b'n' b'y' b' ' b'f' b'u' b'r' b't' b'h'\n",
      " b'e' b'r' b',' b' ' b'h' b'e' b'a' b'r' b' ' b'm' b'e' b' ' b's' b'p'\n",
      " b'e' b'a' b'k' b'.' b'\\n' b'\\n' b'A' b'l' b'l' b':' b'\\n' b'S' b'p' b'e'\n",
      " b'a' b'k' b',' b' ' b's' b'p' b'e' b'a' b'k' b'.' b'\\n' b'\\n' b'F' b'i'\n",
      " b'r' b's' b't' b' ' b'C' b'i' b't' b'i' b'z' b'e' b'n' b':' b'\\n' b'Y'\n",
      " b'o' b'u' b' '], shape=(101,), dtype=string)\n"
     ]
    }
   ],
   "source": [
    "sequences = ids_dataset.batch(seq_length+1, drop_remainder=True)\n",
    "\n",
    "for seq in sequences.take(1):\n",
    "  print(chars_from_ids(seq))\n"
   ]
  },
  {
   "cell_type": "code",
   "execution_count": 10,
   "id": "7ce8d687",
   "metadata": {},
   "outputs": [
    {
     "name": "stdout",
     "output_type": "stream",
     "text": [
      "b'First Citizen:\\nBefore we proceed any further, hear me speak.\\n\\nAll:\\nSpeak, speak.\\n\\nFirst Citizen:\\nYou '\n",
      "b'are all resolved rather to die than to famish?\\n\\nAll:\\nResolved. resolved.\\n\\nFirst Citizen:\\nFirst, you k'\n",
      "b\"now Caius Marcius is chief enemy to the people.\\n\\nAll:\\nWe know't, we know't.\\n\\nFirst Citizen:\\nLet us ki\"\n",
      "b\"ll him, and we'll have corn at our own price.\\nIs't a verdict?\\n\\nAll:\\nNo more talking on't; let it be d\"\n",
      "b'one: away, away!\\n\\nSecond Citizen:\\nOne word, good citizens.\\n\\nFirst Citizen:\\nWe are accounted poor citi'\n"
     ]
    }
   ],
   "source": [
    "def text_from_ids(ids):\n",
    "  return tf.strings.reduce_join(chars_from_ids(ids), axis=-1)\n",
    "\n",
    "\n",
    "for seq in sequences.take(5):\n",
    "  print(text_from_ids(seq).numpy())\n"
   ]
  },
  {
   "cell_type": "code",
   "execution_count": 11,
   "id": "34d47c6c",
   "metadata": {},
   "outputs": [],
   "source": [
    "def split_input_target(sequence):\n",
    "    input_text = sequence[:-1]\n",
    "    target_text = sequence[1:]\n",
    "    return input_text, target_text\n"
   ]
  },
  {
   "cell_type": "code",
   "execution_count": 12,
   "id": "5b23646d",
   "metadata": {},
   "outputs": [],
   "source": [
    "dataset = sequences.map(split_input_target)\n"
   ]
  },
  {
   "cell_type": "code",
   "execution_count": 13,
   "id": "db3f3fd8",
   "metadata": {},
   "outputs": [
    {
     "name": "stdout",
     "output_type": "stream",
     "text": [
      "Input : b'First Citizen:\\nBefore we proceed any further, hear me speak.\\n\\nAll:\\nSpeak, speak.\\n\\nFirst Citizen:\\nYou'\n",
      "Target: b'irst Citizen:\\nBefore we proceed any further, hear me speak.\\n\\nAll:\\nSpeak, speak.\\n\\nFirst Citizen:\\nYou '\n"
     ]
    }
   ],
   "source": [
    "for input_example, target_example in dataset.take(1):\n",
    "    print(\"Input :\", text_from_ids(input_example).numpy())\n",
    "    print(\"Target:\", text_from_ids(target_example).numpy())\n"
   ]
  },
  {
   "cell_type": "code",
   "execution_count": 14,
   "id": "9dba92b7",
   "metadata": {},
   "outputs": [
    {
     "data": {
      "text/plain": [
       "<_PrefetchDataset element_spec=(TensorSpec(shape=(64, 100), dtype=tf.int64, name=None), TensorSpec(shape=(64, 100), dtype=tf.int64, name=None))>"
      ]
     },
     "execution_count": 14,
     "metadata": {},
     "output_type": "execute_result"
    }
   ],
   "source": [
    "# Batch size\n",
    "BATCH_SIZE = 64\n",
    "\n",
    "# Buffer size to shuffle the dataset\n",
    "# (TF data is designed to work with possibly infinite sequences,\n",
    "# so it doesn't attempt to shuffle the entire sequence in memory. Instead,\n",
    "# it maintains a buffer in which it shuffles elements).\n",
    "BUFFER_SIZE = 10000\n",
    "\n",
    "dataset = (\n",
    "    dataset\n",
    "    .shuffle(BUFFER_SIZE)\n",
    "    .batch(BATCH_SIZE, drop_remainder=True)\n",
    "    .prefetch(tf.data.experimental.AUTOTUNE))\n",
    "\n",
    "dataset\n"
   ]
  },
  {
   "cell_type": "code",
   "execution_count": 15,
   "id": "4e71be98",
   "metadata": {},
   "outputs": [],
   "source": [
    "# Length of the vocabulary in StringLookup Layer\n",
    "vocab_size = len(ids_from_chars.get_vocabulary())\n",
    "\n",
    "# The embedding dimension\n",
    "embedding_dim = 256\n",
    "\n",
    "# Number of RNN units\n",
    "rnn_units = 1024\n"
   ]
  },
  {
   "cell_type": "code",
   "execution_count": 16,
   "id": "0042317e",
   "metadata": {},
   "outputs": [],
   "source": [
    "class MyModel(tf.keras.Model):\n",
    "  def __init__(self, vocab_size, embedding_dim, rnn_units):\n",
    "    super().__init__(self)\n",
    "    self.embedding = tf.keras.layers.Embedding(vocab_size, embedding_dim)\n",
    "    self.rnn = tf.keras.layers.SimpleRNN(rnn_units,\n",
    "                                         return_sequences=True,\n",
    "                                         return_state=True)\n",
    "    self.dense = tf.keras.layers.Dense(vocab_size)\n",
    "\n",
    "  def call(self, inputs, states=None, return_state=False, training=False):\n",
    "    x = inputs\n",
    "    x = self.embedding(x, training=training)\n",
    "    if states is None:\n",
    "      states = [self.rnn.get_initial_state(x)]\n",
    "    x, state = self.rnn(x, initial_state=states[0], training=training)\n",
    "    x = self.dense(x, training=training)\n",
    "\n",
    "    if return_state:\n",
    "      return x, [state]\n",
    "    else:\n",
    "      return x"
   ]
  },
  {
   "cell_type": "code",
   "execution_count": 17,
   "id": "a28bc553",
   "metadata": {},
   "outputs": [],
   "source": [
    "model = MyModel(\n",
    "    vocab_size=vocab_size,\n",
    "    embedding_dim=embedding_dim,\n",
    "    rnn_units=rnn_units)\n"
   ]
  },
  {
   "cell_type": "code",
   "execution_count": 18,
   "id": "a9c970a6",
   "metadata": {},
   "outputs": [
    {
     "name": "stdout",
     "output_type": "stream",
     "text": [
      "(64, 100, 66) # (batch_size, sequence_length, vocab_size)\n"
     ]
    }
   ],
   "source": [
    "for input_example_batch, target_example_batch in dataset.take(1):\n",
    "    example_batch_predictions = model(input_example_batch)\n",
    "    print(example_batch_predictions.shape, \"# (batch_size, sequence_length, vocab_size)\")\n"
   ]
  },
  {
   "cell_type": "code",
   "execution_count": 19,
   "id": "a8351ace",
   "metadata": {},
   "outputs": [
    {
     "name": "stdout",
     "output_type": "stream",
     "text": [
      "Model: \"my_model\"\n",
      "_________________________________________________________________\n",
      " Layer (type)                Output Shape              Param #   \n",
      "=================================================================\n",
      " embedding (Embedding)       multiple                  16896     \n",
      "                                                                 \n",
      " simple_rnn (SimpleRNN)      multiple                  1311744   \n",
      "                                                                 \n",
      " dense (Dense)               multiple                  67650     \n",
      "                                                                 \n",
      "=================================================================\n",
      "Total params: 1,396,290\n",
      "Trainable params: 1,396,290\n",
      "Non-trainable params: 0\n",
      "_________________________________________________________________\n"
     ]
    }
   ],
   "source": [
    "model.summary()\n"
   ]
  },
  {
   "cell_type": "code",
   "execution_count": 20,
   "id": "74f067e9",
   "metadata": {},
   "outputs": [],
   "source": [
    "sampled_indices = tf.random.categorical(example_batch_predictions[0], num_samples=1)\n",
    "sampled_indices = tf.squeeze(sampled_indices, axis=-1).numpy()\n"
   ]
  },
  {
   "cell_type": "code",
   "execution_count": 21,
   "id": "ac2044d0",
   "metadata": {},
   "outputs": [
    {
     "data": {
      "text/plain": [
       "array([ 3, 55,  8, 31,  1, 47, 13, 61, 53, 21, 58, 26, 39, 35, 62, 29, 25,\n",
       "       49, 47, 22, 16, 47, 53, 14, 17, 18, 30, 10, 18,  4,  7,  6, 12, 33,\n",
       "       34,  8, 16, 50, 26, 57, 21, 19, 45, 58,  4, 57, 41, 28, 52, 59, 21,\n",
       "        0, 28, 10, 18, 10, 13, 51,  6, 37, 61, 59, 26,  8, 12,  3, 40, 55,\n",
       "       51, 57, 33, 11, 27, 26, 14, 52, 22, 33, 65, 46,  6,  0,  8, 35, 39,\n",
       "       33, 37,  3, 50, 56, 25, 54, 22, 52, 65, 33, 55, 38, 34,  2])"
      ]
     },
     "execution_count": 21,
     "metadata": {},
     "output_type": "execute_result"
    }
   ],
   "source": [
    "sampled_indices\n"
   ]
  },
  {
   "cell_type": "code",
   "execution_count": 22,
   "id": "0c731fb0",
   "metadata": {},
   "outputs": [
    {
     "name": "stdout",
     "output_type": "stream",
     "text": [
      "Input:\n",
      " b'rst Senator:\\nSit, Coriolanus; never shame to hear\\nWhat you have nobly done.\\n\\nCORIOLANUS:\\nYour horror'\n",
      "\n",
      "Next Char Predictions:\n",
      " b\"!p-R\\nh?vnHsMZVwPLjhIChnADEQ3E$,';TU-CkMrHFfs$rbOmtH[UNK]O3E3?l'XvtM-;!aplrT:NMAmITzg'[UNK]-VZTX!kqLoImzTpYU \"\n"
     ]
    }
   ],
   "source": [
    "print(\"Input:\\n\", text_from_ids(input_example_batch[0]).numpy())\n",
    "print()\n",
    "print(\"Next Char Predictions:\\n\", text_from_ids(sampled_indices).numpy())\n"
   ]
  },
  {
   "cell_type": "code",
   "execution_count": 23,
   "id": "800aaa4f",
   "metadata": {},
   "outputs": [],
   "source": [
    "loss = tf.losses.SparseCategoricalCrossentropy(from_logits=True)\n"
   ]
  },
  {
   "cell_type": "code",
   "execution_count": 24,
   "id": "5608607b",
   "metadata": {},
   "outputs": [
    {
     "name": "stdout",
     "output_type": "stream",
     "text": [
      "Prediction shape:  (64, 100, 66)  # (batch_size, sequence_length, vocab_size)\n",
      "Mean loss:         tf.Tensor(4.194723, shape=(), dtype=float32)\n"
     ]
    }
   ],
   "source": [
    "example_batch_mean_loss = loss(target_example_batch, example_batch_predictions)\n",
    "print(\"Prediction shape: \", example_batch_predictions.shape, \" # (batch_size, sequence_length, vocab_size)\")\n",
    "print(\"Mean loss:        \", example_batch_mean_loss)\n"
   ]
  },
  {
   "cell_type": "code",
   "execution_count": 25,
   "id": "032297a0",
   "metadata": {},
   "outputs": [
    {
     "data": {
      "text/plain": [
       "66.33536"
      ]
     },
     "execution_count": 25,
     "metadata": {},
     "output_type": "execute_result"
    }
   ],
   "source": [
    "tf.exp(example_batch_mean_loss).numpy()\n"
   ]
  },
  {
   "cell_type": "code",
   "execution_count": 26,
   "id": "24fc082e",
   "metadata": {},
   "outputs": [],
   "source": [
    "model.compile(optimizer='adam', loss=loss)\n"
   ]
  },
  {
   "cell_type": "code",
   "execution_count": 27,
   "id": "6abf1197",
   "metadata": {},
   "outputs": [],
   "source": [
    "# Directory where the checkpoints will be saved\n",
    "checkpoint_dir = './training_checkpoints'\n",
    "# Name of the checkpoint files\n",
    "checkpoint_prefix = os.path.join(checkpoint_dir, \"ckpt_{epoch}\")\n",
    "\n",
    "checkpoint_callback = tf.keras.callbacks.ModelCheckpoint(\n",
    "    filepath=checkpoint_prefix,\n",
    "    save_weights_only=True)\n"
   ]
  },
  {
   "cell_type": "code",
   "execution_count": 28,
   "id": "8768da60",
   "metadata": {},
   "outputs": [],
   "source": [
    "EPOCHS = 30\n"
   ]
  },
  {
   "cell_type": "code",
   "execution_count": 29,
   "id": "5987bc1d",
   "metadata": {},
   "outputs": [
    {
     "name": "stdout",
     "output_type": "stream",
     "text": [
      "Epoch 1/30\n",
      "172/172 [==============================] - 31s 97ms/step - loss: 2.7726\n",
      "Epoch 2/30\n",
      "172/172 [==============================] - 25s 89ms/step - loss: 2.1187\n",
      "Epoch 3/30\n",
      "172/172 [==============================] - 25s 87ms/step - loss: 1.8925\n",
      "Epoch 4/30\n",
      "172/172 [==============================] - 26s 90ms/step - loss: 1.7462\n",
      "Epoch 5/30\n",
      "172/172 [==============================] - 26s 91ms/step - loss: 1.6467\n",
      "Epoch 6/30\n",
      "172/172 [==============================] - 26s 89ms/step - loss: 1.5760\n",
      "Epoch 7/30\n",
      "172/172 [==============================] - 26s 91ms/step - loss: 1.5253\n",
      "Epoch 8/30\n",
      "172/172 [==============================] - 26s 91ms/step - loss: 1.4822\n",
      "Epoch 9/30\n",
      "172/172 [==============================] - 26s 91ms/step - loss: 1.4522\n",
      "Epoch 10/30\n",
      "172/172 [==============================] - 26s 91ms/step - loss: 1.4253\n",
      "Epoch 11/30\n",
      "172/172 [==============================] - 26s 89ms/step - loss: 1.4015\n",
      "Epoch 12/30\n",
      "172/172 [==============================] - 26s 89ms/step - loss: 1.3818\n",
      "Epoch 13/30\n",
      "172/172 [==============================] - 26s 91ms/step - loss: 1.3634\n",
      "Epoch 14/30\n",
      "172/172 [==============================] - 26s 90ms/step - loss: 1.3466\n",
      "Epoch 15/30\n",
      "172/172 [==============================] - 26s 89ms/step - loss: 1.3333\n",
      "Epoch 16/30\n",
      "172/172 [==============================] - 26s 90ms/step - loss: 1.3172\n",
      "Epoch 17/30\n",
      "172/172 [==============================] - 26s 90ms/step - loss: 1.3032\n",
      "Epoch 18/30\n",
      "172/172 [==============================] - 26s 89ms/step - loss: 1.2913\n",
      "Epoch 19/30\n",
      "172/172 [==============================] - 25s 89ms/step - loss: 1.2788\n",
      "Epoch 20/30\n",
      "172/172 [==============================] - 26s 91ms/step - loss: 1.2672\n",
      "Epoch 21/30\n",
      "172/172 [==============================] - 26s 91ms/step - loss: 1.2555\n",
      "Epoch 22/30\n",
      "172/172 [==============================] - 26s 90ms/step - loss: 1.2458\n",
      "Epoch 23/30\n",
      "172/172 [==============================] - 25s 89ms/step - loss: 1.2347\n",
      "Epoch 24/30\n",
      "172/172 [==============================] - 26s 91ms/step - loss: 1.2221\n",
      "Epoch 25/30\n",
      "172/172 [==============================] - 26s 90ms/step - loss: 1.2136\n",
      "Epoch 26/30\n",
      "172/172 [==============================] - 26s 90ms/step - loss: 1.2023\n",
      "Epoch 27/30\n",
      "172/172 [==============================] - 26s 90ms/step - loss: 1.1923\n",
      "Epoch 28/30\n",
      "172/172 [==============================] - 25s 89ms/step - loss: 1.1816\n",
      "Epoch 29/30\n",
      "172/172 [==============================] - 25s 90ms/step - loss: 1.1716\n",
      "Epoch 30/30\n",
      "172/172 [==============================] - 26s 91ms/step - loss: 1.1610\n"
     ]
    }
   ],
   "source": [
    "history = model.fit(dataset, epochs=EPOCHS, callbacks=[checkpoint_callback])\n"
   ]
  },
  {
   "cell_type": "code",
   "execution_count": 30,
   "id": "8d40ef4a",
   "metadata": {},
   "outputs": [],
   "source": [
    "class OneStep(tf.keras.Model):\n",
    "    def __init__(self, model, chars_from_ids, ids_from_chars, temperature=1.0):\n",
    "        super().__init__()\n",
    "        self.temperature = temperature\n",
    "        self.model = model\n",
    "        self.chars_from_ids = chars_from_ids\n",
    "        self.ids_from_chars = ids_from_chars\n",
    "\n",
    "        # Create a mask to prevent \"[UNK]\" from being generated.\n",
    "        skip_ids = self.ids_from_chars(['[UNK]'])[:, None]\n",
    "        sparse_mask = tf.SparseTensor(\n",
    "            # Put a -inf at each bad index.\n",
    "            values=[-float('inf')]*len(skip_ids),\n",
    "            indices=skip_ids,\n",
    "            # Match the shape to the vocabulary\n",
    "            dense_shape=[len(ids_from_chars.get_vocabulary())])\n",
    "        self.prediction_mask = tf.sparse.to_dense(sparse_mask)\n",
    "\n",
    "    @tf.function\n",
    "    def generate_one_step(self, inputs, states=None):\n",
    "        if states is not None:\n",
    "            states = [tf.identity(states[0])]  # Makes a copy of 'states'\n",
    "        # Convert strings to token IDs.\n",
    "        input_chars = tf.strings.unicode_split(inputs, 'UTF-8')\n",
    "        input_ids = self.ids_from_chars(input_chars).to_tensor()\n",
    "\n",
    "        # Run the model.\n",
    "        # predicted_logits.shape is [batch, char, next_char_logits]\n",
    "        predicted_logits, states = self.model(inputs=input_ids, states=states,\n",
    "                                              return_state=True)\n",
    "        # Only use the last prediction.\n",
    "        predicted_logits = predicted_logits[:, -1, :]\n",
    "        predicted_logits = predicted_logits/self.temperature\n",
    "        # Apply the prediction mask: prevent \"[UNK]\" from being generated.\n",
    "        predicted_logits = predicted_logits + self.prediction_mask\n",
    "\n",
    "        # Sample the output logits to generate token IDs.\n",
    "        predicted_ids = tf.random.categorical(predicted_logits, num_samples=1)\n",
    "        predicted_ids = tf.squeeze(predicted_ids, axis=-1)\n",
    "\n",
    "        # Convert from token ids to characters\n",
    "        predicted_chars = self.chars_from_ids(predicted_ids)\n",
    "\n",
    "        # Return the characters and model state.\n",
    "        return predicted_chars, states\n",
    "\n"
   ]
  },
  {
   "cell_type": "code",
   "execution_count": 31,
   "id": "472e8f1f",
   "metadata": {},
   "outputs": [],
   "source": [
    "one_step_model = OneStep(model, chars_from_ids, ids_from_chars)\n"
   ]
  },
  {
   "cell_type": "code",
   "execution_count": 32,
   "id": "ac1e4a5c",
   "metadata": {},
   "outputs": [
    {
     "name": "stdout",
     "output_type": "stream",
     "text": [
      "PEANUT:\n",
      "Ay, and thy foots the son of standent, as it is not stone to him, but yetress thee.\n",
      "\n",
      "ProRINAUD:\n",
      "Even to the realm crapp'd not of brother,\n",
      "Traitor, thy son before love.\n",
      "\n",
      "PAULINA:\n",
      "I thank there was never be no walls,\n",
      "Like intentest house: sir, alas!\n",
      "\n",
      "GONZALO:\n",
      "I was yourselves\n",
      "To be the dark mastrius with wings I'll give my brother would\n",
      "her in such an ounseloss as a late mine own king\n",
      "I'll would out on.\n",
      "\n",
      "First Servant:\n",
      "Some spreticato's hither you will, thou shalt say some haste,\n",
      "Or hurm her enesuel,\n",
      "Which, as thou art a little:\n",
      "There is no all, and a\n",
      "lidaming the sudden stand his oaths!\n",
      "Now, will you\n",
      "Do well for him of plunt thy chamber. What?\n",
      "by God's horse as much uneven of a suits,\n",
      "Which too late why have I swalt consest.\n",
      "And would even to him ne'er reign the litter will grieve your laphesed with thy loss,\n",
      "Who would have vow'd bears very\n",
      "Marry like on Rouse, marry; I know scoly shed bleeting York, to shame them\n",
      "sound?\n",
      "\n",
      "KING RICHARD II:\n",
      "Sir Warwick will I:\n",
      "You shall be thus grace, an \n",
      "\n",
      "________________________________________________________________________________\n",
      "\n",
      "Run time: 3.333641290664673\n"
     ]
    }
   ],
   "source": [
    "start = time.time()\n",
    "states = None\n",
    "next_char = tf.constant(['PEANUT:'])\n",
    "result = [next_char]\n",
    "\n",
    "for n in range(1000):\n",
    "  next_char, states = one_step_model.generate_one_step(next_char, states=states)\n",
    "  result.append(next_char)\n",
    "\n",
    "result = tf.strings.join(result)\n",
    "end = time.time()\n",
    "print(result[0].numpy().decode('utf-8'), '\\n\\n' + '_'*80)\n",
    "print('\\nRun time:', end - start)\n"
   ]
  },
  {
   "cell_type": "code",
   "execution_count": 33,
   "id": "1893c573",
   "metadata": {},
   "outputs": [
    {
     "data": {
      "text/plain": [
       "[<tf.Tensor: shape=(1, 1024), dtype=float32, numpy=\n",
       " array([[-0.96561956, -0.99994266,  0.9997311 , ...,  0.99998176,\n",
       "         -0.99962515, -0.9594454 ]], dtype=float32)>]"
      ]
     },
     "execution_count": 33,
     "metadata": {},
     "output_type": "execute_result"
    }
   ],
   "source": [
    "states"
   ]
  },
  {
   "cell_type": "code",
   "execution_count": 35,
   "id": "ab3e2656",
   "metadata": {},
   "outputs": [
    {
     "data": {
      "text/plain": [
       "<keras.callbacks.History at 0x7f7f687b9f90>"
      ]
     },
     "execution_count": 35,
     "metadata": {},
     "output_type": "execute_result"
    }
   ],
   "source": [
    "history"
   ]
  },
  {
   "cell_type": "code",
   "execution_count": 36,
   "id": "6b247bd2",
   "metadata": {},
   "outputs": [
    {
     "name": "stdout",
     "output_type": "stream",
     "text": [
      "dict_keys(['loss'])\n"
     ]
    }
   ],
   "source": [
    "print(history.history.keys())"
   ]
  },
  {
   "cell_type": "code",
   "execution_count": 37,
   "id": "af90761b",
   "metadata": {},
   "outputs": [
    {
     "data": {
      "image/png": "[encoded data removed]",
      "text/plain": [
       "<Figure size 640x480 with 1 Axes>"
      ]
     },
     "metadata": {},
     "output_type": "display_data"
    }
   ],
   "source": [
    "loss_values = history.history['loss']\n",
    "epochs = range(1, len(loss_values)+1)\n",
    "\n",
    "plt.plot(epochs, loss_values, label='Training Loss')\n",
    "plt.xlabel('Epochs')\n",
    "plt.ylabel('Loss')\n",
    "plt.legend()\n",
    "\n",
    "plt.show()"
   ]
  },
  {
   "cell_type": "code",
   "execution_count": 38,
   "id": "c228c5de",
   "metadata": {},
   "outputs": [],
   "source": [
    "with open('losses_rnn.npy', 'wb') as f:\n",
    "    np.save(f, loss_values)"
   ]
  },
  {
   "cell_type": "code",
   "execution_count": null,
   "id": "bd908f06",
   "metadata": {},
   "outputs": [],
   "source": []
  }
 ],
 "metadata": {
  "kernelspec": {
   "display_name": "Python 3 (ipykernel)",
   "language": "python",
   "name": "python3"
  },
  "language_info": {
   "codemirror_mode": {
    "name": "ipython",
    "version": 3
   },
   "file_extension": ".py",
   "mimetype": "text/x-python",
   "name": "python",
   "nbconvert_exporter": "python",
   "pygments_lexer": "ipython3",
   "version": "3.10.6"
  }
 },
 "nbformat": 4,
 "nbformat_minor": 5
}
