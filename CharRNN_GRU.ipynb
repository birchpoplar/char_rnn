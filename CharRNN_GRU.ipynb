{
 "cells": [
  {
   "cell_type": "code",
   "execution_count": 1,
   "id": "37edb648",
   "metadata": {},
   "outputs": [
    {
     "name": "stdout",
     "output_type": "stream",
     "text": [
      "Default GPU Device: /device:GPU:0\n"
     ]
    }
   ],
   "source": [
    "import numpy as np\n",
    "import matplotlib.pyplot as plt\n",
    "import os\n",
    "os.environ['TF_CPP_MIN_LOG_LEVEL'] = '2'  # or any {'0', '1', '2'}\n",
    "import time\n",
    "import tensorflow as tf\n",
    "if tf.test.gpu_device_name():\n",
    "    print('Default GPU Device: {}'.format(tf.test.gpu_device_name()))\n",
    "else:\n",
    "    print(\"Please install GPU version of TF\")"
   ]
  },
  {
   "cell_type": "code",
   "execution_count": 2,
   "id": "a12d9f9a",
   "metadata": {},
   "outputs": [],
   "source": [
    "path_to_file = tf.keras.utils.get_file('shakespeare.txt', 'https://storage.googleapis.com/download.tensorflow.org/data/shakespeare.txt')\n"
   ]
  },
  {
   "cell_type": "code",
   "execution_count": 3,
   "id": "19926a50",
   "metadata": {},
   "outputs": [
    {
     "name": "stdout",
     "output_type": "stream",
     "text": [
      "Length of text: 1115394 characters\n"
     ]
    }
   ],
   "source": [
    "# Read, then decode for py2 compat.\n",
    "text = open(path_to_file, 'rb').read().decode(encoding='utf-8')\n",
    "# length of text is the number of characters in it\n",
    "print(f'Length of text: {len(text)} characters')\n"
   ]
  },
  {
   "cell_type": "code",
   "execution_count": 4,
   "id": "f7b40a36",
   "metadata": {},
   "outputs": [
    {
     "name": "stdout",
     "output_type": "stream",
     "text": [
      "65 unique characters\n"
     ]
    }
   ],
   "source": [
    "# The unique characters in the file\n",
    "vocab = sorted(set(text))\n",
    "print(f'{len(vocab)} unique characters')"
   ]
  },
  {
   "cell_type": "code",
   "execution_count": 5,
   "id": "e4c5228f",
   "metadata": {},
   "outputs": [],
   "source": [
    "ids_from_chars = tf.keras.layers.StringLookup(\n",
    "    vocabulary=list(vocab), mask_token=None)\n",
    "\n",
    "chars_from_ids = tf.keras.layers.StringLookup(\n",
    "    vocabulary=ids_from_chars.get_vocabulary(), invert=True, mask_token=None)\n"
   ]
  },
  {
   "cell_type": "code",
   "execution_count": 6,
   "id": "db882545",
   "metadata": {},
   "outputs": [
    {
     "data": {
      "text/plain": [
       "<tf.Tensor: shape=(1115394,), dtype=int64, numpy=array([19, 48, 57, ..., 46,  9,  1])>"
      ]
     },
     "execution_count": 6,
     "metadata": {},
     "output_type": "execute_result"
    }
   ],
   "source": [
    "all_ids = ids_from_chars(tf.strings.unicode_split(text, 'UTF-8'))\n",
    "all_ids\n"
   ]
  },
  {
   "cell_type": "code",
   "execution_count": 7,
   "id": "244ef7e5",
   "metadata": {},
   "outputs": [],
   "source": [
    "ids_dataset = tf.data.Dataset.from_tensor_slices(all_ids)\n"
   ]
  },
  {
   "cell_type": "code",
   "execution_count": 8,
   "id": "3c164833",
   "metadata": {},
   "outputs": [],
   "source": [
    "seq_length = 100\n"
   ]
  },
  {
   "cell_type": "code",
   "execution_count": 9,
   "id": "6808a744",
   "metadata": {},
   "outputs": [
    {
     "name": "stdout",
     "output_type": "stream",
     "text": [
      "tf.Tensor(\n",
      "[b'F' b'i' b'r' b's' b't' b' ' b'C' b'i' b't' b'i' b'z' b'e' b'n' b':'\n",
      " b'\\n' b'B' b'e' b'f' b'o' b'r' b'e' b' ' b'w' b'e' b' ' b'p' b'r' b'o'\n",
      " b'c' b'e' b'e' b'd' b' ' b'a' b'n' b'y' b' ' b'f' b'u' b'r' b't' b'h'\n",
      " b'e' b'r' b',' b' ' b'h' b'e' b'a' b'r' b' ' b'm' b'e' b' ' b's' b'p'\n",
      " b'e' b'a' b'k' b'.' b'\\n' b'\\n' b'A' b'l' b'l' b':' b'\\n' b'S' b'p' b'e'\n",
      " b'a' b'k' b',' b' ' b's' b'p' b'e' b'a' b'k' b'.' b'\\n' b'\\n' b'F' b'i'\n",
      " b'r' b's' b't' b' ' b'C' b'i' b't' b'i' b'z' b'e' b'n' b':' b'\\n' b'Y'\n",
      " b'o' b'u' b' '], shape=(101,), dtype=string)\n"
     ]
    }
   ],
   "source": [
    "sequences = ids_dataset.batch(seq_length+1, drop_remainder=True)\n",
    "\n",
    "for seq in sequences.take(1):\n",
    "  print(chars_from_ids(seq))\n"
   ]
  },
  {
   "cell_type": "code",
   "execution_count": 10,
   "id": "7ce8d687",
   "metadata": {},
   "outputs": [
    {
     "name": "stdout",
     "output_type": "stream",
     "text": [
      "b'First Citizen:\\nBefore we proceed any further, hear me speak.\\n\\nAll:\\nSpeak, speak.\\n\\nFirst Citizen:\\nYou '\n",
      "b'are all resolved rather to die than to famish?\\n\\nAll:\\nResolved. resolved.\\n\\nFirst Citizen:\\nFirst, you k'\n",
      "b\"now Caius Marcius is chief enemy to the people.\\n\\nAll:\\nWe know't, we know't.\\n\\nFirst Citizen:\\nLet us ki\"\n",
      "b\"ll him, and we'll have corn at our own price.\\nIs't a verdict?\\n\\nAll:\\nNo more talking on't; let it be d\"\n",
      "b'one: away, away!\\n\\nSecond Citizen:\\nOne word, good citizens.\\n\\nFirst Citizen:\\nWe are accounted poor citi'\n"
     ]
    }
   ],
   "source": [
    "def text_from_ids(ids):\n",
    "  return tf.strings.reduce_join(chars_from_ids(ids), axis=-1)\n",
    "\n",
    "\n",
    "for seq in sequences.take(5):\n",
    "  print(text_from_ids(seq).numpy())\n"
   ]
  },
  {
   "cell_type": "code",
   "execution_count": 11,
   "id": "34d47c6c",
   "metadata": {},
   "outputs": [],
   "source": [
    "def split_input_target(sequence):\n",
    "    input_text = sequence[:-1]\n",
    "    target_text = sequence[1:]\n",
    "    return input_text, target_text\n"
   ]
  },
  {
   "cell_type": "code",
   "execution_count": 12,
   "id": "5b23646d",
   "metadata": {},
   "outputs": [],
   "source": [
    "dataset = sequences.map(split_input_target)\n"
   ]
  },
  {
   "cell_type": "code",
   "execution_count": 13,
   "id": "db3f3fd8",
   "metadata": {},
   "outputs": [
    {
     "name": "stdout",
     "output_type": "stream",
     "text": [
      "Input : b'First Citizen:\\nBefore we proceed any further, hear me speak.\\n\\nAll:\\nSpeak, speak.\\n\\nFirst Citizen:\\nYou'\n",
      "Target: b'irst Citizen:\\nBefore we proceed any further, hear me speak.\\n\\nAll:\\nSpeak, speak.\\n\\nFirst Citizen:\\nYou '\n"
     ]
    }
   ],
   "source": [
    "for input_example, target_example in dataset.take(1):\n",
    "    print(\"Input :\", text_from_ids(input_example).numpy())\n",
    "    print(\"Target:\", text_from_ids(target_example).numpy())\n"
   ]
  },
  {
   "cell_type": "code",
   "execution_count": 14,
   "id": "9dba92b7",
   "metadata": {},
   "outputs": [
    {
     "data": {
      "text/plain": [
       "<_PrefetchDataset element_spec=(TensorSpec(shape=(64, 100), dtype=tf.int64, name=None), TensorSpec(shape=(64, 100), dtype=tf.int64, name=None))>"
      ]
     },
     "execution_count": 14,
     "metadata": {},
     "output_type": "execute_result"
    }
   ],
   "source": [
    "# Batch size\n",
    "BATCH_SIZE = 64\n",
    "\n",
    "# Buffer size to shuffle the dataset\n",
    "# (TF data is designed to work with possibly infinite sequences,\n",
    "# so it doesn't attempt to shuffle the entire sequence in memory. Instead,\n",
    "# it maintains a buffer in which it shuffles elements).\n",
    "BUFFER_SIZE = 10000\n",
    "\n",
    "dataset = (\n",
    "    dataset\n",
    "    .shuffle(BUFFER_SIZE)\n",
    "    .batch(BATCH_SIZE, drop_remainder=True)\n",
    "    .prefetch(tf.data.experimental.AUTOTUNE))\n",
    "\n",
    "dataset\n"
   ]
  },
  {
   "cell_type": "code",
   "execution_count": 15,
   "id": "4e71be98",
   "metadata": {},
   "outputs": [],
   "source": [
    "# Length of the vocabulary in StringLookup Layer\n",
    "vocab_size = len(ids_from_chars.get_vocabulary())\n",
    "\n",
    "# The embedding dimension\n",
    "embedding_dim = 256\n",
    "\n",
    "# Number of RNN units\n",
    "rnn_units = 1024\n"
   ]
  },
  {
   "cell_type": "code",
   "execution_count": 16,
   "id": "0042317e",
   "metadata": {},
   "outputs": [],
   "source": [
    "class MyModel(tf.keras.Model):\n",
    "  def __init__(self, vocab_size, embedding_dim, rnn_units):\n",
    "    super().__init__(self)\n",
    "    self.embedding = tf.keras.layers.Embedding(vocab_size, embedding_dim)\n",
    "    self.gru1 = tf.keras.layers.GRU(rnn_units,\n",
    "                                   return_sequences=True,\n",
    "                                   return_state=True)\n",
    "    self.gru2 = tf.keras.layers.GRU(rnn_units,\n",
    "                                   return_sequences=True,\n",
    "                                   return_state=True)\n",
    "    self.dense = tf.keras.layers.Dense(vocab_size)\n",
    "\n",
    "  def call(self, inputs, states=None, return_state=False, training=False):\n",
    "    x = inputs\n",
    "    x = self.embedding(x, training=training)\n",
    "    if states is None:\n",
    "      states = [self.gru1.get_initial_state(x), self.gru2.get_initial_state(x)]\n",
    "    x, state1 = self.gru1(x, initial_state=states[0], training=training)\n",
    "    x, state2 = self.gru2(x, initial_state=states[1], training=training)\n",
    "    x = self.dense(x, training=training)\n",
    "\n",
    "    if return_state:\n",
    "      return x, [state1, state2]\n",
    "    else:\n",
    "      return x\n"
   ]
  },
  {
   "cell_type": "code",
   "execution_count": 17,
   "id": "a28bc553",
   "metadata": {},
   "outputs": [],
   "source": [
    "model = MyModel(\n",
    "    vocab_size=vocab_size,\n",
    "    embedding_dim=embedding_dim,\n",
    "    rnn_units=rnn_units)\n"
   ]
  },
  {
   "cell_type": "code",
   "execution_count": 18,
   "id": "a9c970a6",
   "metadata": {},
   "outputs": [
    {
     "name": "stdout",
     "output_type": "stream",
     "text": [
      "(64, 100, 66) # (batch_size, sequence_length, vocab_size)\n"
     ]
    }
   ],
   "source": [
    "for input_example_batch, target_example_batch in dataset.take(1):\n",
    "    example_batch_predictions = model(input_example_batch)\n",
    "    print(example_batch_predictions.shape, \"# (batch_size, sequence_length, vocab_size)\")\n"
   ]
  },
  {
   "cell_type": "code",
   "execution_count": 19,
   "id": "a8351ace",
   "metadata": {},
   "outputs": [
    {
     "name": "stdout",
     "output_type": "stream",
     "text": [
      "Model: \"my_model\"\n",
      "_________________________________________________________________\n",
      " Layer (type)                Output Shape              Param #   \n",
      "=================================================================\n",
      " embedding (Embedding)       multiple                  16896     \n",
      "                                                                 \n",
      " gru (GRU)                   multiple                  3938304   \n",
      "                                                                 \n",
      " gru_1 (GRU)                 multiple                  6297600   \n",
      "                                                                 \n",
      " dense (Dense)               multiple                  67650     \n",
      "                                                                 \n",
      "=================================================================\n",
      "Total params: 10,320,450\n",
      "Trainable params: 10,320,450\n",
      "Non-trainable params: 0\n",
      "_________________________________________________________________\n"
     ]
    }
   ],
   "source": [
    "model.summary()\n"
   ]
  },
  {
   "cell_type": "code",
   "execution_count": 20,
   "id": "74f067e9",
   "metadata": {},
   "outputs": [],
   "source": [
    "sampled_indices = tf.random.categorical(example_batch_predictions[0], num_samples=1)\n",
    "sampled_indices = tf.squeeze(sampled_indices, axis=-1).numpy()\n"
   ]
  },
  {
   "cell_type": "code",
   "execution_count": 21,
   "id": "ac2044d0",
   "metadata": {},
   "outputs": [
    {
     "data": {
      "text/plain": [
       "array([64,  2, 11, 51, 42, 29,  3, 38, 58, 43, 59, 56, 46, 39, 62, 21, 61,\n",
       "       50,  9,  4,  7, 65, 20, 17, 43, 45, 33, 26, 25, 41, 18,  1, 15,  6,\n",
       "        2, 24,  0, 33, 60, 29, 19, 53, 37,  9, 13, 50, 30, 11, 62, 32, 62,\n",
       "       14, 43, 50, 28, 50, 25, 16, 24, 18, 36,  0, 12, 64, 50, 65, 50, 42,\n",
       "        8, 40, 25, 33,  6, 37, 53, 63, 63,  4, 45, 43, 28, 55, 13, 14, 58,\n",
       "       21,  5,  8, 60, 51, 12, 48,  3,  1, 34, 32, 55, 33, 31,  6])"
      ]
     },
     "execution_count": 21,
     "metadata": {},
     "output_type": "execute_result"
    }
   ],
   "source": [
    "sampled_indices\n"
   ]
  },
  {
   "cell_type": "code",
   "execution_count": 22,
   "id": "0c731fb0",
   "metadata": {},
   "outputs": [
    {
     "name": "stdout",
     "output_type": "stream",
     "text": [
      "Input:\n",
      " b\"thee would prove itself a bawd:\\n'Tis best thou diest quickly.\\n\\nCLAUDIO:\\nO hear me, Isabella!\\n\\nDUKE V\"\n",
      "\n",
      "Next Char Predictions:\n",
      " b\"y :lcP!YsdtqgZwHvk.$,zGDdfTMLbE\\nB' K[UNK]TuPFnX.?kQ:wSwAdkOkLCKEW[UNK];ykzkc-aLT'Xnxx$fdOp?AsH&-ul;i!\\nUSpTR'\"\n"
     ]
    }
   ],
   "source": [
    "print(\"Input:\\n\", text_from_ids(input_example_batch[0]).numpy())\n",
    "print()\n",
    "print(\"Next Char Predictions:\\n\", text_from_ids(sampled_indices).numpy())\n"
   ]
  },
  {
   "cell_type": "code",
   "execution_count": 23,
   "id": "800aaa4f",
   "metadata": {},
   "outputs": [],
   "source": [
    "loss = tf.losses.SparseCategoricalCrossentropy(from_logits=True)\n"
   ]
  },
  {
   "cell_type": "code",
   "execution_count": 24,
   "id": "5608607b",
   "metadata": {},
   "outputs": [
    {
     "name": "stdout",
     "output_type": "stream",
     "text": [
      "Prediction shape:  (64, 100, 66)  # (batch_size, sequence_length, vocab_size)\n",
      "Mean loss:         tf.Tensor(4.1895056, shape=(), dtype=float32)\n"
     ]
    }
   ],
   "source": [
    "example_batch_mean_loss = loss(target_example_batch, example_batch_predictions)\n",
    "print(\"Prediction shape: \", example_batch_predictions.shape, \" # (batch_size, sequence_length, vocab_size)\")\n",
    "print(\"Mean loss:        \", example_batch_mean_loss)\n"
   ]
  },
  {
   "cell_type": "code",
   "execution_count": 25,
   "id": "032297a0",
   "metadata": {},
   "outputs": [
    {
     "data": {
      "text/plain": [
       "65.99016"
      ]
     },
     "execution_count": 25,
     "metadata": {},
     "output_type": "execute_result"
    }
   ],
   "source": [
    "tf.exp(example_batch_mean_loss).numpy()\n"
   ]
  },
  {
   "cell_type": "code",
   "execution_count": 26,
   "id": "24fc082e",
   "metadata": {},
   "outputs": [],
   "source": [
    "model.compile(optimizer='adam', loss=loss)\n"
   ]
  },
  {
   "cell_type": "code",
   "execution_count": 27,
   "id": "6abf1197",
   "metadata": {},
   "outputs": [],
   "source": [
    "# Directory where the checkpoints will be saved\n",
    "checkpoint_dir = './training_checkpoints'\n",
    "# Name of the checkpoint files\n",
    "checkpoint_prefix = os.path.join(checkpoint_dir, \"ckpt_{epoch}\")\n",
    "\n",
    "checkpoint_callback = tf.keras.callbacks.ModelCheckpoint(\n",
    "    filepath=checkpoint_prefix,\n",
    "    save_weights_only=True)\n"
   ]
  },
  {
   "cell_type": "code",
   "execution_count": 28,
   "id": "8768da60",
   "metadata": {},
   "outputs": [],
   "source": [
    "EPOCHS = 30\n"
   ]
  },
  {
   "cell_type": "code",
   "execution_count": 29,
   "id": "5987bc1d",
   "metadata": {},
   "outputs": [
    {
     "name": "stdout",
     "output_type": "stream",
     "text": [
      "Epoch 1/30\n",
      "172/172 [==============================] - 44s 232ms/step - loss: 2.6135\n",
      "Epoch 2/30\n",
      "172/172 [==============================] - 41s 232ms/step - loss: 1.8111\n",
      "Epoch 3/30\n",
      "172/172 [==============================] - 41s 234ms/step - loss: 1.5462\n",
      "Epoch 4/30\n",
      "172/172 [==============================] - 41s 234ms/step - loss: 1.4246\n",
      "Epoch 5/30\n",
      "172/172 [==============================] - 41s 233ms/step - loss: 1.3492\n",
      "Epoch 6/30\n",
      "172/172 [==============================] - 41s 232ms/step - loss: 1.2940\n",
      "Epoch 7/30\n",
      "172/172 [==============================] - 41s 232ms/step - loss: 1.2450\n",
      "Epoch 8/30\n",
      "172/172 [==============================] - 41s 232ms/step - loss: 1.1990\n",
      "Epoch 9/30\n",
      "172/172 [==============================] - 41s 230ms/step - loss: 1.1504\n",
      "Epoch 10/30\n",
      "172/172 [==============================] - 41s 231ms/step - loss: 1.0992\n",
      "Epoch 11/30\n",
      "172/172 [==============================] - 42s 235ms/step - loss: 1.0411\n",
      "Epoch 12/30\n",
      "172/172 [==============================] - 41s 232ms/step - loss: 0.9755\n",
      "Epoch 13/30\n",
      "172/172 [==============================] - 41s 234ms/step - loss: 0.9023\n",
      "Epoch 14/30\n",
      "172/172 [==============================] - 41s 234ms/step - loss: 0.8206\n",
      "Epoch 15/30\n",
      "172/172 [==============================] - 42s 238ms/step - loss: 0.7346\n",
      "Epoch 16/30\n",
      "172/172 [==============================] - 42s 235ms/step - loss: 0.6480\n",
      "Epoch 17/30\n",
      "172/172 [==============================] - 41s 231ms/step - loss: 0.5635\n",
      "Epoch 18/30\n",
      "172/172 [==============================] - 41s 233ms/step - loss: 0.4859\n",
      "Epoch 19/30\n",
      "172/172 [==============================] - 41s 234ms/step - loss: 0.4144\n",
      "Epoch 20/30\n",
      "172/172 [==============================] - 42s 238ms/step - loss: 0.3563\n",
      "Epoch 21/30\n",
      "172/172 [==============================] - 42s 235ms/step - loss: 0.3087\n",
      "Epoch 22/30\n",
      "172/172 [==============================] - 42s 236ms/step - loss: 0.2724\n",
      "Epoch 23/30\n",
      "172/172 [==============================] - 41s 234ms/step - loss: 0.2417\n",
      "Epoch 24/30\n",
      "172/172 [==============================] - 43s 240ms/step - loss: 0.2197\n",
      "Epoch 25/30\n",
      "172/172 [==============================] - 42s 238ms/step - loss: 0.2072\n",
      "Epoch 26/30\n",
      "172/172 [==============================] - 42s 239ms/step - loss: 0.2039\n",
      "Epoch 27/30\n",
      "172/172 [==============================] - 42s 239ms/step - loss: 0.2080\n",
      "Epoch 28/30\n",
      "172/172 [==============================] - 42s 237ms/step - loss: 0.2214\n",
      "Epoch 29/30\n",
      "172/172 [==============================] - 42s 237ms/step - loss: 0.2370\n",
      "Epoch 30/30\n",
      "172/172 [==============================] - 43s 240ms/step - loss: 0.2426\n"
     ]
    }
   ],
   "source": [
    "history = model.fit(dataset, epochs=EPOCHS, callbacks=[checkpoint_callback])\n"
   ]
  },
  {
   "cell_type": "code",
   "execution_count": 30,
   "id": "8d40ef4a",
   "metadata": {},
   "outputs": [],
   "source": [
    "class OneStep(tf.keras.Model):\n",
    "  def __init__(self, model, chars_from_ids, ids_from_chars, temperature=1.0):\n",
    "    super().__init__()\n",
    "    self.temperature = temperature\n",
    "    self.model = model\n",
    "    self.chars_from_ids = chars_from_ids\n",
    "    self.ids_from_chars = ids_from_chars\n",
    "\n",
    "    # Create a mask to prevent \"[UNK]\" from being generated.\n",
    "    skip_ids = self.ids_from_chars(['[UNK]'])[:, None]\n",
    "    sparse_mask = tf.SparseTensor(\n",
    "        # Put a -inf at each bad index.\n",
    "        values=[-float('inf')]*len(skip_ids),\n",
    "        indices=skip_ids,\n",
    "        # Match the shape to the vocabulary\n",
    "        dense_shape=[len(ids_from_chars.get_vocabulary())])\n",
    "    self.prediction_mask = tf.sparse.to_dense(sparse_mask)\n",
    "\n",
    "  @tf.function\n",
    "  def generate_one_step(self, inputs, states=None):\n",
    "    if states is not None:\n",
    "        states = tf.identity(states)  # Makes a copy of 'states'\n",
    "    # Convert strings to token IDs.\n",
    "    input_chars = tf.strings.unicode_split(inputs, 'UTF-8')\n",
    "    input_ids = self.ids_from_chars(input_chars).to_tensor()\n",
    "\n",
    "    # Run the model.\n",
    "    # predicted_logits.shape is [batch, char, next_char_logits]\n",
    "    predicted_logits, states = self.model(inputs=input_ids, states=states,\n",
    "                                          return_state=True)\n",
    "    # Only use the last prediction.\n",
    "    predicted_logits = predicted_logits[:, -1, :]\n",
    "    predicted_logits = predicted_logits/self.temperature\n",
    "    # Apply the prediction mask: prevent \"[UNK]\" from being generated.\n",
    "    predicted_logits = predicted_logits + self.prediction_mask\n",
    "\n",
    "    # Sample the output logits to generate token IDs.\n",
    "    predicted_ids = tf.random.categorical(predicted_logits, num_samples=1)\n",
    "    predicted_ids = tf.squeeze(predicted_ids, axis=-1)\n",
    "\n",
    "    # Convert from token ids to characters\n",
    "    predicted_chars = self.chars_from_ids(predicted_ids)\n",
    "\n",
    "    # Return the characters and model state.\n",
    "    return predicted_chars, states\n"
   ]
  },
  {
   "cell_type": "code",
   "execution_count": 31,
   "id": "472e8f1f",
   "metadata": {},
   "outputs": [],
   "source": [
    "one_step_model = OneStep(model, chars_from_ids, ids_from_chars)\n"
   ]
  },
  {
   "cell_type": "code",
   "execution_count": 32,
   "id": "ac1e4a5c",
   "metadata": {},
   "outputs": [
    {
     "name": "stdout",
     "output_type": "stream",
     "text": [
      "PEANUT:\n",
      "Look down so long as it is strange\n",
      "In stamp of Richard charite to have some conference with his brother.\n",
      "And that is, to say this?\n",
      "\n",
      "LUCIO:\n",
      "My lord; here's no truth at us.\n",
      "\n",
      "CLARENCE:\n",
      "A little fire of doors are store of Richmond.\n",
      "\n",
      "ISABELLA:\n",
      "I am bound to resolve you hence,\n",
      "To hear what holy to you in summer's son,\n",
      "I'll be the queen there's son, and made peace\n",
      "with her, or she\n",
      "with me to make him a merited bul,\n",
      "On idle pities for their loved,\n",
      "That from his horse will have me hell make crook'd\n",
      "To the self among then he this smole are took.\n",
      "\n",
      "QUEEN:\n",
      "To meet that winter shows a show,\n",
      "Nor mean you shout, for unuaby'd will; but you\n",
      "Have to begged thee in a tailor of a mother,\n",
      "And all the double drums and eyes that over-looked\n",
      "Would be hurl'd up to this shoe-win and as crown\n",
      "Till he needs no better.\n",
      "\n",
      "DUKE VINCENTIO:\n",
      "This is most like, this is a part; for the enemy\n",
      "Is all unpossible.\n",
      "\n",
      "GREEN:\n",
      "Besides, our neighbours: I will his majesty\n",
      "To strut before a way from been.\n",
      "\n",
      "HORTENSIO:\n",
      "How should he, and well enough to see this bargail.\n",
      "Thou kill'st me not, for I till Katharina! if he\n",
      "had been too rough, something too crowned, hath left with thee;\n",
      "His dustife lieu, so he is deposed; which are my kind,\n",
      "she bids to such contempt in her; so he should have been near\n",
      "The heavens did sull us, his apparent.\n",
      "\n",
      "DUKE OF YORK:\n",
      "I will be his contract, let no man said so,\n",
      "That it may be dish'd upon their heads:\n",
      "Thy sensibel was, that we have need it, traitors,\n",
      "Makes two hap so tede of me\n",
      "Made me about your boothes; There is no time\n",
      "To make me such as most abselve and ports,\n",
      "And alpours ow in scorn at our solemnity.\n",
      "O heavens! in all hope is it?\n",
      "\n",
      "Servant:\n",
      "Find your honour cannot quench your highness, is the lusty\n",
      "Contract to Baynable Plote of abuting.\n",
      "\n",
      "MERCUTIO:\n",
      "Tut, dear soul, to divide intellisted\n",
      "A sea to make his virance of your settled:\n",
      "Rescue, my father, drink a health to make thee open Tune,\n",
      "So ease other with inhignior Buckingham\n",
      "No more shall have a discontented friend,\n",
      "To stand grant of  \n",
      "\n",
      "________________________________________________________________________________\n",
      "\n",
      "Run time: 10.984017848968506\n"
     ]
    }
   ],
   "source": [
    "start = time.time()\n",
    "states = None\n",
    "next_char = tf.constant(['PEANUT:'])\n",
    "result = [next_char]\n",
    "\n",
    "for n in range(2000):\n",
    "  next_char, states = one_step_model.generate_one_step(next_char, states=states)\n",
    "  result.append(next_char)\n",
    "\n",
    "result = tf.strings.join(result)\n",
    "end = time.time()\n",
    "print(result[0].numpy().decode('utf-8'), '\\n\\n' + '_'*80)\n",
    "print('\\nRun time:', end - start)\n"
   ]
  },
  {
   "cell_type": "code",
   "execution_count": null,
   "id": "1893c573",
   "metadata": {},
   "outputs": [],
   "source": [
    "states"
   ]
  },
  {
   "cell_type": "code",
   "execution_count": null,
   "id": "79e0ecc5",
   "metadata": {},
   "outputs": [],
   "source": [
    "tf.saved_model.save(one_step_model, 'one_step_gru')"
   ]
  },
  {
   "cell_type": "code",
   "execution_count": null,
   "id": "6b41d238",
   "metadata": {},
   "outputs": [],
   "source": [
    "one_step_reloaded = tf.saved_model.load('one_step_gru')\n"
   ]
  },
  {
   "cell_type": "code",
   "execution_count": null,
   "id": "4e40c6d2",
   "metadata": {},
   "outputs": [],
   "source": [
    "states = None\n",
    "next_char = tf.constant(['ROMEO:'])\n",
    "result = [next_char]\n",
    "\n",
    "for n in range(500):\n",
    "  next_char, states = one_step_reloaded.generate_one_step(next_char, states=states)\n",
    "  result.append(next_char)\n",
    "\n",
    "print(tf.strings.join(result)[0].numpy().decode(\"utf-8\"))\n"
   ]
  },
  {
   "cell_type": "code",
   "execution_count": null,
   "id": "ab3e2656",
   "metadata": {},
   "outputs": [],
   "source": [
    "history"
   ]
  },
  {
   "cell_type": "code",
   "execution_count": null,
   "id": "6b247bd2",
   "metadata": {},
   "outputs": [],
   "source": [
    "print(history.history.keys())"
   ]
  },
  {
   "cell_type": "code",
   "execution_count": 33,
   "id": "af90761b",
   "metadata": {},
   "outputs": [
    {
     "data": {
      "image/png": "[encoded data removed]",
      "text/plain": [
       "<Figure size 640x480 with 1 Axes>"
      ]
     },
     "metadata": {},
     "output_type": "display_data"
    }
   ],
   "source": [
    "loss_values = history.history['loss']\n",
    "epochs = range(1, len(loss_values)+1)\n",
    "\n",
    "plt.plot(epochs, loss_values, label='Training Loss')\n",
    "plt.xlabel('Epochs')\n",
    "plt.ylabel('Loss')\n",
    "plt.legend()\n",
    "\n",
    "plt.show()"
   ]
  },
  {
   "cell_type": "code",
   "execution_count": null,
   "id": "c228c5de",
   "metadata": {},
   "outputs": [],
   "source": []
  }
 ],
 "metadata": {
  "kernelspec": {
   "display_name": "Python 3 (ipykernel)",
   "language": "python",
   "name": "python3"
  },
  "language_info": {
   "codemirror_mode": {
    "name": "ipython",
    "version": 3
   },
   "file_extension": ".py",
   "mimetype": "text/x-python",
   "name": "python",
   "nbconvert_exporter": "python",
   "pygments_lexer": "ipython3",
   "version": "3.10.6"
  }
 },
 "nbformat": 4,
 "nbformat_minor": 5
}
